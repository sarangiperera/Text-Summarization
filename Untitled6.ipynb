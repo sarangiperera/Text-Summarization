{
 "cells": [
  {
   "cell_type": "code",
   "execution_count": 5,
   "id": "ea5bd109",
   "metadata": {},
   "outputs": [],
   "source": [
    "text=\"\"\"\n",
    "Psychology is the study of mind and behavior.Its subject matter includes the behavior of humans and nonhumans, both conscious and unconscious phenomena, and mental processes such as thoughts, feelings, and motives. Psychology is an academic discipline of immense scope, crossing the boundaries between the natural and social sciences. Biological psychologists seek an understanding of the emergent properties of brains, linking the discipline to neuroscience. As social scientists, psychologists aim to understand the behavior of individuals and groups.\n",
    "A professional practitioner or researcher involved in the discipline is called a psychologist. Some psychologists can also be classified as behavioral or cognitive scientists. Some psychologists attempt to understand the role of mental functions in individual and social behavior. Others explore the physiological and neurobiological processes that underlie cognitive functions and behaviors.\n",
    "Psychologists are involved in research on perception, cognition, attention, emotion, intelligence, subjective experiences, motivation, brain functioning, and personality. Psychologists' interests extend to interpersonal relationships, psychological resilience, family resilience, and other areas within social psychology. They also consider the unconscious mind.[4] Research psychologists employ empirical methods to infer causal and correlational relationships between psychosocial variables. Some, but not all, clinical and counseling psychologists rely on symbolic interpretation.\n",
    "\"\"\""
   ]
  },
  {
   "cell_type": "code",
   "execution_count": 1,
   "id": "fa29004b",
   "metadata": {},
   "outputs": [
    {
     "name": "stdout",
     "output_type": "stream",
     "text": [
      "Defaulting to user installation because normal site-packages is not writeable\n",
      "Collecting spacy\n",
      "  Obtaining dependency information for spacy from https://files.pythonhosted.org/packages/92/fb/d1f0605e1e8627226c6c96053fe1632e9a04a3fbcd8b5d715528cb95eb97/spacy-3.7.4-cp311-cp311-win_amd64.whl.metadata\n",
      "  Downloading spacy-3.7.4-cp311-cp311-win_amd64.whl.metadata (27 kB)\n",
      "Collecting spacy-legacy<3.1.0,>=3.0.11 (from spacy)\n",
      "  Obtaining dependency information for spacy-legacy<3.1.0,>=3.0.11 from https://files.pythonhosted.org/packages/c3/55/12e842c70ff8828e34e543a2c7176dac4da006ca6901c9e8b43efab8bc6b/spacy_legacy-3.0.12-py2.py3-none-any.whl.metadata\n",
      "  Downloading spacy_legacy-3.0.12-py2.py3-none-any.whl.metadata (2.8 kB)\n",
      "Collecting spacy-loggers<2.0.0,>=1.0.0 (from spacy)\n",
      "  Obtaining dependency information for spacy-loggers<2.0.0,>=1.0.0 from https://files.pythonhosted.org/packages/33/78/d1a1a026ef3af911159398c939b1509d5c36fe524c7b644f34a5146c4e16/spacy_loggers-1.0.5-py3-none-any.whl.metadata\n",
      "  Downloading spacy_loggers-1.0.5-py3-none-any.whl.metadata (23 kB)\n",
      "Collecting murmurhash<1.1.0,>=0.28.0 (from spacy)\n",
      "  Obtaining dependency information for murmurhash<1.1.0,>=0.28.0 from https://files.pythonhosted.org/packages/71/46/af01a20ec368bd9cb49a1d2df15e3eca113bbf6952cc1f2a47f1c6801a7f/murmurhash-1.0.10-cp311-cp311-win_amd64.whl.metadata\n",
      "  Downloading murmurhash-1.0.10-cp311-cp311-win_amd64.whl.metadata (2.0 kB)\n",
      "Collecting cymem<2.1.0,>=2.0.2 (from spacy)\n",
      "  Obtaining dependency information for cymem<2.1.0,>=2.0.2 from https://files.pythonhosted.org/packages/c1/c3/dd044e6f62a3d317c461f6f0c153c6573ed13025752d779e514000c15dd2/cymem-2.0.8-cp311-cp311-win_amd64.whl.metadata\n",
      "  Downloading cymem-2.0.8-cp311-cp311-win_amd64.whl.metadata (8.6 kB)\n",
      "Collecting preshed<3.1.0,>=3.0.2 (from spacy)\n",
      "  Obtaining dependency information for preshed<3.1.0,>=3.0.2 from https://files.pythonhosted.org/packages/e4/fc/78cdbdb79f5d6d45949e72c32445d6c060977ad50a1dcfc0392622165f7c/preshed-3.0.9-cp311-cp311-win_amd64.whl.metadata\n",
      "  Downloading preshed-3.0.9-cp311-cp311-win_amd64.whl.metadata (2.2 kB)\n",
      "Collecting thinc<8.3.0,>=8.2.2 (from spacy)\n",
      "  Obtaining dependency information for thinc<8.3.0,>=8.2.2 from https://files.pythonhosted.org/packages/de/a5/c242d57dc7a8afe677aa48ce370d84be3d04523cbb819c4a36b64f35155c/thinc-8.2.3-cp311-cp311-win_amd64.whl.metadata\n",
      "  Downloading thinc-8.2.3-cp311-cp311-win_amd64.whl.metadata (15 kB)\n",
      "Collecting wasabi<1.2.0,>=0.9.1 (from spacy)\n",
      "  Obtaining dependency information for wasabi<1.2.0,>=0.9.1 from https://files.pythonhosted.org/packages/06/7c/34330a89da55610daa5f245ddce5aab81244321101614751e7537f125133/wasabi-1.1.3-py3-none-any.whl.metadata\n",
      "  Downloading wasabi-1.1.3-py3-none-any.whl.metadata (28 kB)\n",
      "Collecting srsly<3.0.0,>=2.4.3 (from spacy)\n",
      "  Obtaining dependency information for srsly<3.0.0,>=2.4.3 from https://files.pythonhosted.org/packages/eb/f5/e3f29993f673d91623df6413ba64e815dd2676fd7932cbc5e7347402ddae/srsly-2.4.8-cp311-cp311-win_amd64.whl.metadata\n",
      "  Downloading srsly-2.4.8-cp311-cp311-win_amd64.whl.metadata (20 kB)\n",
      "Collecting catalogue<2.1.0,>=2.0.6 (from spacy)\n",
      "  Obtaining dependency information for catalogue<2.1.0,>=2.0.6 from https://files.pythonhosted.org/packages/9e/96/d32b941a501ab566a16358d68b6eb4e4acc373fab3c3c4d7d9e649f7b4bb/catalogue-2.0.10-py3-none-any.whl.metadata\n",
      "  Downloading catalogue-2.0.10-py3-none-any.whl.metadata (14 kB)\n",
      "Collecting weasel<0.4.0,>=0.1.0 (from spacy)\n",
      "  Obtaining dependency information for weasel<0.4.0,>=0.1.0 from https://files.pythonhosted.org/packages/d5/e5/b63b8e255d89ba4155972990d42523251d4d1368c4906c646597f63870e2/weasel-0.3.4-py3-none-any.whl.metadata\n",
      "  Downloading weasel-0.3.4-py3-none-any.whl.metadata (4.7 kB)\n",
      "Collecting typer<0.10.0,>=0.3.0 (from spacy)\n",
      "  Obtaining dependency information for typer<0.10.0,>=0.3.0 from https://files.pythonhosted.org/packages/62/39/82c9d3e10979851847361d922a373bdfef4091020da7f893acfaf07c0225/typer-0.9.4-py3-none-any.whl.metadata\n",
      "  Downloading typer-0.9.4-py3-none-any.whl.metadata (14 kB)\n",
      "Requirement already satisfied: smart-open<7.0.0,>=5.2.1 in c:\\programdata\\anaconda3\\lib\\site-packages (from spacy) (5.2.1)\n",
      "Requirement already satisfied: tqdm<5.0.0,>=4.38.0 in c:\\programdata\\anaconda3\\lib\\site-packages (from spacy) (4.65.0)\n",
      "Requirement already satisfied: requests<3.0.0,>=2.13.0 in c:\\programdata\\anaconda3\\lib\\site-packages (from spacy) (2.31.0)\n",
      "Requirement already satisfied: pydantic!=1.8,!=1.8.1,<3.0.0,>=1.7.4 in c:\\programdata\\anaconda3\\lib\\site-packages (from spacy) (1.10.8)\n",
      "Requirement already satisfied: jinja2 in c:\\programdata\\anaconda3\\lib\\site-packages (from spacy) (3.1.2)\n",
      "Requirement already satisfied: setuptools in c:\\programdata\\anaconda3\\lib\\site-packages (from spacy) (68.0.0)\n",
      "Requirement already satisfied: packaging>=20.0 in c:\\programdata\\anaconda3\\lib\\site-packages (from spacy) (23.1)\n",
      "Collecting langcodes<4.0.0,>=3.2.0 (from spacy)\n",
      "  Obtaining dependency information for langcodes<4.0.0,>=3.2.0 from https://files.pythonhosted.org/packages/58/70/4058ab0ebb082b18d06888e711baed7f33354a5e0b363bb627586d8c323a/langcodes-3.4.0-py3-none-any.whl.metadata\n",
      "  Downloading langcodes-3.4.0-py3-none-any.whl.metadata (29 kB)\n",
      "Requirement already satisfied: numpy>=1.19.0 in c:\\programdata\\anaconda3\\lib\\site-packages (from spacy) (1.24.3)\n",
      "Collecting language-data>=1.2 (from langcodes<4.0.0,>=3.2.0->spacy)\n",
      "  Obtaining dependency information for language-data>=1.2 from https://files.pythonhosted.org/packages/12/5f/139464da89c49afcc8bb97ebad48818a535220ce01b1f24c61fb80dbe4d0/language_data-1.2.0-py3-none-any.whl.metadata\n",
      "  Downloading language_data-1.2.0-py3-none-any.whl.metadata (4.3 kB)\n",
      "Requirement already satisfied: typing-extensions>=4.2.0 in c:\\programdata\\anaconda3\\lib\\site-packages (from pydantic!=1.8,!=1.8.1,<3.0.0,>=1.7.4->spacy) (4.7.1)\n",
      "Requirement already satisfied: charset-normalizer<4,>=2 in c:\\programdata\\anaconda3\\lib\\site-packages (from requests<3.0.0,>=2.13.0->spacy) (2.0.4)\n",
      "Requirement already satisfied: idna<4,>=2.5 in c:\\programdata\\anaconda3\\lib\\site-packages (from requests<3.0.0,>=2.13.0->spacy) (3.4)\n",
      "Requirement already satisfied: urllib3<3,>=1.21.1 in c:\\programdata\\anaconda3\\lib\\site-packages (from requests<3.0.0,>=2.13.0->spacy) (1.26.16)\n",
      "Requirement already satisfied: certifi>=2017.4.17 in c:\\programdata\\anaconda3\\lib\\site-packages (from requests<3.0.0,>=2.13.0->spacy) (2023.7.22)\n",
      "Collecting blis<0.8.0,>=0.7.8 (from thinc<8.3.0,>=8.2.2->spacy)\n",
      "  Obtaining dependency information for blis<0.8.0,>=0.7.8 from https://files.pythonhosted.org/packages/2f/09/da0592c74560cc33396504698122f7a56747c82a5e072ca7d2c3397898e1/blis-0.7.11-cp311-cp311-win_amd64.whl.metadata\n",
      "  Downloading blis-0.7.11-cp311-cp311-win_amd64.whl.metadata (7.6 kB)\n",
      "Collecting confection<1.0.0,>=0.0.1 (from thinc<8.3.0,>=8.2.2->spacy)\n",
      "  Obtaining dependency information for confection<1.0.0,>=0.0.1 from https://files.pythonhosted.org/packages/0c/00/3106b1854b45bd0474ced037dfe6b73b90fe68a68968cef47c23de3d43d2/confection-0.1.5-py3-none-any.whl.metadata\n",
      "  Downloading confection-0.1.5-py3-none-any.whl.metadata (19 kB)\n",
      "Requirement already satisfied: colorama in c:\\programdata\\anaconda3\\lib\\site-packages (from tqdm<5.0.0,>=4.38.0->spacy) (0.4.6)\n",
      "Requirement already satisfied: click<9.0.0,>=7.1.1 in c:\\programdata\\anaconda3\\lib\\site-packages (from typer<0.10.0,>=0.3.0->spacy) (8.0.4)\n",
      "Collecting cloudpathlib<0.17.0,>=0.7.0 (from weasel<0.4.0,>=0.1.0->spacy)\n",
      "  Obtaining dependency information for cloudpathlib<0.17.0,>=0.7.0 from https://files.pythonhosted.org/packages/0f/6e/45b57a7d4573d85d0b0a39d99673dc1f5eea9d92a1a4603b35e968fbf89a/cloudpathlib-0.16.0-py3-none-any.whl.metadata\n",
      "  Downloading cloudpathlib-0.16.0-py3-none-any.whl.metadata (14 kB)\n",
      "Requirement already satisfied: MarkupSafe>=2.0 in c:\\programdata\\anaconda3\\lib\\site-packages (from jinja2->spacy) (2.1.1)\n",
      "Collecting marisa-trie>=0.7.7 (from language-data>=1.2->langcodes<4.0.0,>=3.2.0->spacy)\n",
      "  Obtaining dependency information for marisa-trie>=0.7.7 from https://files.pythonhosted.org/packages/3e/6d/ed921d88d596094aa8dd5749ab83a95b09f8f8f0b057cb6cac0d376ea398/marisa_trie-1.1.1-cp311-cp311-win_amd64.whl.metadata\n",
      "  Downloading marisa_trie-1.1.1-cp311-cp311-win_amd64.whl.metadata (8.9 kB)\n",
      "Downloading spacy-3.7.4-cp311-cp311-win_amd64.whl (12.1 MB)\n",
      "   ---------------------------------------- 0.0/12.1 MB ? eta -:--:--\n",
      "   ---------------------------------------- 0.0/12.1 MB 2.0 MB/s eta 0:00:06\n",
      "   ---------------------------------------- 0.1/12.1 MB 1.1 MB/s eta 0:00:12\n",
      "   ---------------------------------------- 0.1/12.1 MB 901.1 kB/s eta 0:00:14\n",
      "    --------------------------------------- 0.2/12.1 MB 1.4 MB/s eta 0:00:09\n",
      "   - -------------------------------------- 0.3/12.1 MB 1.4 MB/s eta 0:00:09\n",
      "   - -------------------------------------- 0.5/12.1 MB 1.7 MB/s eta 0:00:07\n",
      "   - -------------------------------------- 0.5/12.1 MB 1.8 MB/s eta 0:00:07\n",
      "   -- ------------------------------------- 0.7/12.1 MB 1.8 MB/s eta 0:00:07\n",
      "   -- ------------------------------------- 0.8/12.1 MB 2.0 MB/s eta 0:00:06\n",
      "   --- ------------------------------------ 1.0/12.1 MB 2.1 MB/s eta 0:00:06\n",
      "   --- ------------------------------------ 1.1/12.1 MB 2.2 MB/s eta 0:00:06\n",
      "   ---- ----------------------------------- 1.3/12.1 MB 2.3 MB/s eta 0:00:05\n",
      "   ---- ----------------------------------- 1.4/12.1 MB 2.4 MB/s eta 0:00:05\n",
      "   ---- ----------------------------------- 1.4/12.1 MB 2.4 MB/s eta 0:00:05\n",
      "   ----- ---------------------------------- 1.5/12.1 MB 2.2 MB/s eta 0:00:05\n",
      "   ----- ---------------------------------- 1.7/12.1 MB 2.3 MB/s eta 0:00:05\n",
      "   ------ --------------------------------- 1.9/12.1 MB 2.4 MB/s eta 0:00:05\n",
      "   ------ --------------------------------- 1.9/12.1 MB 2.4 MB/s eta 0:00:05\n",
      "   ------ --------------------------------- 1.9/12.1 MB 2.4 MB/s eta 0:00:05\n",
      "   ------ --------------------------------- 2.1/12.1 MB 2.2 MB/s eta 0:00:05\n",
      "   ------- -------------------------------- 2.2/12.1 MB 2.3 MB/s eta 0:00:05\n",
      "   -------- ------------------------------- 2.4/12.1 MB 2.4 MB/s eta 0:00:05\n",
      "   -------- ------------------------------- 2.5/12.1 MB 2.4 MB/s eta 0:00:04\n",
      "   --------- ------------------------------ 2.7/12.1 MB 2.5 MB/s eta 0:00:04\n",
      "   --------- ------------------------------ 3.0/12.1 MB 2.6 MB/s eta 0:00:04\n",
      "   ---------- ----------------------------- 3.3/12.1 MB 2.7 MB/s eta 0:00:04\n",
      "   ----------- ---------------------------- 3.4/12.1 MB 2.7 MB/s eta 0:00:04\n",
      "   ----------- ---------------------------- 3.5/12.1 MB 2.7 MB/s eta 0:00:04\n",
      "   ------------ --------------------------- 3.7/12.1 MB 2.8 MB/s eta 0:00:04\n",
      "   ------------ --------------------------- 3.9/12.1 MB 2.8 MB/s eta 0:00:03\n",
      "   ------------- -------------------------- 4.1/12.1 MB 2.9 MB/s eta 0:00:03\n",
      "   -------------- ------------------------- 4.4/12.1 MB 2.9 MB/s eta 0:00:03\n",
      "   --------------- ------------------------ 4.6/12.1 MB 3.0 MB/s eta 0:00:03\n",
      "   ---------------- ----------------------- 4.8/12.1 MB 3.1 MB/s eta 0:00:03\n",
      "   ---------------- ----------------------- 5.1/12.1 MB 3.1 MB/s eta 0:00:03\n",
      "   ----------------- ---------------------- 5.3/12.1 MB 3.1 MB/s eta 0:00:03\n",
      "   ------------------ --------------------- 5.5/12.1 MB 3.2 MB/s eta 0:00:03\n",
      "   ------------------ --------------------- 5.6/12.1 MB 3.2 MB/s eta 0:00:03\n",
      "   ------------------- -------------------- 5.9/12.1 MB 3.2 MB/s eta 0:00:02\n",
      "   ------------------- -------------------- 6.0/12.1 MB 3.2 MB/s eta 0:00:02\n",
      "   -------------------- ------------------- 6.2/12.1 MB 3.3 MB/s eta 0:00:02\n",
      "   --------------------- ------------------ 6.3/12.1 MB 3.3 MB/s eta 0:00:02\n",
      "   --------------------- ------------------ 6.6/12.1 MB 3.3 MB/s eta 0:00:02\n",
      "   ---------------------- ----------------- 6.8/12.1 MB 3.4 MB/s eta 0:00:02\n",
      "   ----------------------- ---------------- 7.1/12.1 MB 3.4 MB/s eta 0:00:02\n",
      "   ------------------------ --------------- 7.4/12.1 MB 3.5 MB/s eta 0:00:02\n",
      "   ------------------------- -------------- 7.6/12.1 MB 3.5 MB/s eta 0:00:02\n",
      "   -------------------------- ------------- 7.9/12.1 MB 3.5 MB/s eta 0:00:02\n",
      "   -------------------------- ------------- 8.1/12.1 MB 3.6 MB/s eta 0:00:02\n",
      "   --------------------------- ------------ 8.2/12.1 MB 3.6 MB/s eta 0:00:02\n",
      "   ---------------------------- ----------- 8.5/12.1 MB 3.6 MB/s eta 0:00:02\n",
      "   ---------------------------- ----------- 8.7/12.1 MB 3.6 MB/s eta 0:00:01\n",
      "   ----------------------------- ---------- 9.0/12.1 MB 3.6 MB/s eta 0:00:01\n",
      "   ------------------------------ --------- 9.2/12.1 MB 3.7 MB/s eta 0:00:01\n",
      "   ------------------------------- -------- 9.4/12.1 MB 3.7 MB/s eta 0:00:01\n",
      "   ------------------------------- -------- 9.6/12.1 MB 3.7 MB/s eta 0:00:01\n",
      "   -------------------------------- ------- 9.8/12.1 MB 3.7 MB/s eta 0:00:01\n",
      "   --------------------------------- ------ 10.1/12.1 MB 3.7 MB/s eta 0:00:01\n",
      "   ---------------------------------- ----- 10.3/12.1 MB 3.9 MB/s eta 0:00:01\n",
      "   ---------------------------------- ----- 10.5/12.1 MB 4.0 MB/s eta 0:00:01\n",
      "   ----------------------------------- ---- 10.8/12.1 MB 4.1 MB/s eta 0:00:01\n",
      "   ------------------------------------ --- 11.0/12.1 MB 4.1 MB/s eta 0:00:01\n",
      "   ------------------------------------- -- 11.3/12.1 MB 4.1 MB/s eta 0:00:01\n",
      "   -------------------------------------- - 11.5/12.1 MB 4.2 MB/s eta 0:00:01\n",
      "   -------------------------------------- - 11.7/12.1 MB 4.4 MB/s eta 0:00:01\n",
      "   ---------------------------------------  11.9/12.1 MB 4.3 MB/s eta 0:00:01\n",
      "   ---------------------------------------  12.1/12.1 MB 4.4 MB/s eta 0:00:01\n",
      "   ---------------------------------------  12.1/12.1 MB 4.4 MB/s eta 0:00:01\n",
      "   ---------------------------------------  12.1/12.1 MB 4.4 MB/s eta 0:00:01\n",
      "   ---------------------------------------  12.1/12.1 MB 4.4 MB/s eta 0:00:01\n",
      "   ---------------------------------------  12.1/12.1 MB 4.4 MB/s eta 0:00:01\n",
      "   ---------------------------------------  12.1/12.1 MB 4.4 MB/s eta 0:00:01\n",
      "   ---------------------------------------- 12.1/12.1 MB 3.9 MB/s eta 0:00:00\n",
      "Downloading catalogue-2.0.10-py3-none-any.whl (17 kB)\n",
      "Downloading cymem-2.0.8-cp311-cp311-win_amd64.whl (39 kB)\n",
      "Downloading langcodes-3.4.0-py3-none-any.whl (182 kB)\n",
      "   ---------------------------------------- 0.0/182.0 kB ? eta -:--:--\n",
      "   ------------------------------------- - 174.1/182.0 kB 10.2 MB/s eta 0:00:01\n",
      "   ------------------------------------- - 174.1/182.0 kB 10.2 MB/s eta 0:00:01\n",
      "   ---------------------------------------- 182.0/182.0 kB 1.8 MB/s eta 0:00:00\n",
      "Downloading murmurhash-1.0.10-cp311-cp311-win_amd64.whl (25 kB)\n",
      "Downloading preshed-3.0.9-cp311-cp311-win_amd64.whl (122 kB)\n",
      "   ---------------------------------------- 0.0/122.3 kB ? eta -:--:--\n",
      "   ------------------------------------ --- 112.6/122.3 kB 6.4 MB/s eta 0:00:01\n",
      "   ---------------------------------------- 122.3/122.3 kB 1.8 MB/s eta 0:00:00\n",
      "Downloading spacy_legacy-3.0.12-py2.py3-none-any.whl (29 kB)\n",
      "Downloading spacy_loggers-1.0.5-py3-none-any.whl (22 kB)\n",
      "Downloading srsly-2.4.8-cp311-cp311-win_amd64.whl (479 kB)\n",
      "   ---------------------------------------- 0.0/479.7 kB ? eta -:--:--\n",
      "   ---------------- ----------------------- 194.6/479.7 kB 5.9 MB/s eta 0:00:01\n",
      "   ----------------------------------- ---- 419.8/479.7 kB 5.3 MB/s eta 0:00:01\n",
      "   ---------------------------------------  471.0/479.7 kB 5.0 MB/s eta 0:00:01\n",
      "   ---------------------------------------  471.0/479.7 kB 5.0 MB/s eta 0:00:01\n",
      "   ---------------------------------------- 479.7/479.7 kB 2.2 MB/s eta 0:00:00\n",
      "Downloading thinc-8.2.3-cp311-cp311-win_amd64.whl (1.5 MB)\n",
      "   ---------------------------------------- 0.0/1.5 MB ? eta -:--:--\n",
      "   ---- ----------------------------------- 0.2/1.5 MB 5.1 MB/s eta 0:00:01\n",
      "   ----------- ---------------------------- 0.4/1.5 MB 4.4 MB/s eta 0:00:01\n",
      "   ---------------- ----------------------- 0.6/1.5 MB 4.8 MB/s eta 0:00:01\n",
      "   ---------------------- ----------------- 0.8/1.5 MB 4.8 MB/s eta 0:00:01\n",
      "   --------------------------- ------------ 1.0/1.5 MB 4.6 MB/s eta 0:00:01\n",
      "   -------------------------------- ------- 1.2/1.5 MB 4.8 MB/s eta 0:00:01\n",
      "   ------------------------------------- -- 1.4/1.5 MB 4.7 MB/s eta 0:00:01\n",
      "   ---------------------------------------  1.5/1.5 MB 4.9 MB/s eta 0:00:01\n",
      "   ---------------------------------------- 1.5/1.5 MB 4.3 MB/s eta 0:00:00\n",
      "Downloading typer-0.9.4-py3-none-any.whl (45 kB)\n",
      "   ---------------------------------------- 0.0/46.0 kB ? eta -:--:--\n",
      "   ---------------------------------------- 46.0/46.0 kB 2.2 MB/s eta 0:00:00\n",
      "Downloading wasabi-1.1.3-py3-none-any.whl (27 kB)\n",
      "Downloading weasel-0.3.4-py3-none-any.whl (50 kB)\n",
      "   ---------------------------------------- 0.0/50.1 kB ? eta -:--:--\n",
      "   ---------------------------------------- 50.1/50.1 kB 2.5 MB/s eta 0:00:00\n",
      "Downloading blis-0.7.11-cp311-cp311-win_amd64.whl (6.6 MB)\n",
      "   ---------------------------------------- 0.0/6.6 MB ? eta -:--:--\n",
      "    --------------------------------------- 0.2/6.6 MB 5.0 MB/s eta 0:00:02\n",
      "   -- ------------------------------------- 0.4/6.6 MB 5.4 MB/s eta 0:00:02\n",
      "   --- ------------------------------------ 0.7/6.6 MB 5.2 MB/s eta 0:00:02\n",
      "   ----- ---------------------------------- 0.9/6.6 MB 4.9 MB/s eta 0:00:02\n",
      "   ------- -------------------------------- 1.2/6.6 MB 5.2 MB/s eta 0:00:02\n",
      "   -------- ------------------------------- 1.4/6.6 MB 5.3 MB/s eta 0:00:01\n",
      "   --------- ------------------------------ 1.6/6.6 MB 5.2 MB/s eta 0:00:01\n",
      "   --------- ------------------------------ 1.6/6.6 MB 4.4 MB/s eta 0:00:02\n",
      "   ---------- ----------------------------- 1.8/6.6 MB 4.2 MB/s eta 0:00:02\n",
      "   ------------ --------------------------- 2.0/6.6 MB 4.3 MB/s eta 0:00:02\n",
      "   ------------- -------------------------- 2.3/6.6 MB 4.5 MB/s eta 0:00:01\n",
      "   --------------- ------------------------ 2.5/6.6 MB 4.5 MB/s eta 0:00:01\n",
      "   ---------------- ----------------------- 2.7/6.6 MB 4.4 MB/s eta 0:00:01\n",
      "   ----------------- ---------------------- 3.0/6.6 MB 4.6 MB/s eta 0:00:01\n",
      "   ------------------- -------------------- 3.2/6.6 MB 4.5 MB/s eta 0:00:01\n",
      "   --------------------- ------------------ 3.5/6.6 MB 4.6 MB/s eta 0:00:01\n",
      "   ---------------------- ----------------- 3.7/6.6 MB 4.7 MB/s eta 0:00:01\n",
      "   ----------------------- ---------------- 3.9/6.6 MB 4.7 MB/s eta 0:00:01\n",
      "   ------------------------- -------------- 4.1/6.6 MB 4.7 MB/s eta 0:00:01\n",
      "   -------------------------- ------------- 4.4/6.6 MB 4.7 MB/s eta 0:00:01\n",
      "   --------------------------- ------------ 4.5/6.6 MB 4.7 MB/s eta 0:00:01\n",
      "   ---------------------------- ----------- 4.8/6.6 MB 4.7 MB/s eta 0:00:01\n",
      "   ----------------------------- ---------- 4.9/6.6 MB 4.7 MB/s eta 0:00:01\n",
      "   ----------------------------- ---------- 4.9/6.6 MB 4.7 MB/s eta 0:00:01\n",
      "   ------------------------------ --------- 5.1/6.6 MB 4.4 MB/s eta 0:00:01\n",
      "   -------------------------------- ------- 5.3/6.6 MB 4.4 MB/s eta 0:00:01\n",
      "   --------------------------------- ------ 5.6/6.6 MB 4.4 MB/s eta 0:00:01\n",
      "   ---------------------------------- ----- 5.7/6.6 MB 4.5 MB/s eta 0:00:01\n",
      "   ----------------------------------- ---- 5.8/6.6 MB 4.3 MB/s eta 0:00:01\n",
      "   ----------------------------------- ---- 5.9/6.6 MB 4.3 MB/s eta 0:00:01\n",
      "   ------------------------------------ --- 6.0/6.6 MB 4.2 MB/s eta 0:00:01\n",
      "   ------------------------------------ --- 6.0/6.6 MB 4.2 MB/s eta 0:00:01\n",
      "   ------------------------------------- -- 6.2/6.6 MB 4.0 MB/s eta 0:00:01\n",
      "   -------------------------------------- - 6.4/6.6 MB 4.0 MB/s eta 0:00:01\n",
      "   ---------------------------------------  6.6/6.6 MB 4.0 MB/s eta 0:00:01\n",
      "   ---------------------------------------  6.6/6.6 MB 4.0 MB/s eta 0:00:01\n",
      "   ---------------------------------------  6.6/6.6 MB 4.0 MB/s eta 0:00:01\n",
      "   ---------------------------------------- 6.6/6.6 MB 3.7 MB/s eta 0:00:00\n",
      "Downloading cloudpathlib-0.16.0-py3-none-any.whl (45 kB)\n",
      "   ---------------------------------------- 0.0/45.0 kB ? eta -:--:--\n",
      "   ---------------------------------------- 45.0/45.0 kB 2.3 MB/s eta 0:00:00\n",
      "Downloading confection-0.1.5-py3-none-any.whl (35 kB)\n",
      "Downloading language_data-1.2.0-py3-none-any.whl (5.4 MB)\n",
      "   ---------------------------------------- 0.0/5.4 MB ? eta -:--:--\n",
      "   - -------------------------------------- 0.1/5.4 MB 4.2 MB/s eta 0:00:02\n",
      "   -- ------------------------------------- 0.3/5.4 MB 4.0 MB/s eta 0:00:02\n",
      "   ---- ----------------------------------- 0.6/5.4 MB 4.3 MB/s eta 0:00:02\n",
      "   ----- ---------------------------------- 0.7/5.4 MB 4.3 MB/s eta 0:00:02\n",
      "   ------- -------------------------------- 1.0/5.4 MB 4.4 MB/s eta 0:00:02\n",
      "   -------- ------------------------------- 1.2/5.4 MB 4.7 MB/s eta 0:00:01\n",
      "   --------- ------------------------------ 1.3/5.4 MB 4.5 MB/s eta 0:00:01\n",
      "   --------- ------------------------------ 1.3/5.4 MB 3.6 MB/s eta 0:00:02\n",
      "   ----------- ---------------------------- 1.5/5.4 MB 3.7 MB/s eta 0:00:02\n",
      "   ------------ --------------------------- 1.7/5.4 MB 3.7 MB/s eta 0:00:02\n",
      "   ------------- -------------------------- 1.9/5.4 MB 3.7 MB/s eta 0:00:01\n",
      "   -------------- ------------------------- 2.0/5.4 MB 3.8 MB/s eta 0:00:01\n",
      "   --------------- ------------------------ 2.1/5.4 MB 3.7 MB/s eta 0:00:01\n",
      "   ----------------- ---------------------- 2.4/5.4 MB 3.8 MB/s eta 0:00:01\n",
      "   ------------------ --------------------- 2.5/5.4 MB 3.8 MB/s eta 0:00:01\n",
      "   -------------------- ------------------- 2.8/5.4 MB 3.9 MB/s eta 0:00:01\n",
      "   --------------------- ------------------ 2.9/5.4 MB 3.8 MB/s eta 0:00:01\n",
      "   ----------------------- ---------------- 3.1/5.4 MB 3.9 MB/s eta 0:00:01\n",
      "   ------------------------ --------------- 3.3/5.4 MB 3.8 MB/s eta 0:00:01\n",
      "   -------------------------- ------------- 3.5/5.4 MB 3.9 MB/s eta 0:00:01\n",
      "   --------------------------- ------------ 3.7/5.4 MB 3.9 MB/s eta 0:00:01\n",
      "   ----------------------------- ---------- 3.9/5.4 MB 3.9 MB/s eta 0:00:01\n",
      "   ------------------------------ --------- 4.1/5.4 MB 3.9 MB/s eta 0:00:01\n",
      "   ------------------------------- -------- 4.2/5.4 MB 3.9 MB/s eta 0:00:01\n",
      "   --------------------------------- ------ 4.5/5.4 MB 4.0 MB/s eta 0:00:01\n",
      "   ---------------------------------- ----- 4.7/5.4 MB 4.0 MB/s eta 0:00:01\n",
      "   ------------------------------------ --- 4.9/5.4 MB 4.0 MB/s eta 0:00:01\n",
      "   -------------------------------------- - 5.1/5.4 MB 4.0 MB/s eta 0:00:01\n",
      "   ---------------------------------------  5.3/5.4 MB 3.9 MB/s eta 0:00:01\n",
      "   ---------------------------------------  5.4/5.4 MB 3.9 MB/s eta 0:00:01\n",
      "   ---------------------------------------  5.4/5.4 MB 3.9 MB/s eta 0:00:01\n",
      "   ---------------------------------------- 5.4/5.4 MB 3.6 MB/s eta 0:00:00\n",
      "Downloading marisa_trie-1.1.1-cp311-cp311-win_amd64.whl (153 kB)\n",
      "   ---------------------------------------- 0.0/153.3 kB ? eta -:--:--\n",
      "   --------------------- ------------------ 81.9/153.3 kB 4.8 MB/s eta 0:00:01\n",
      "   ------------------------------------- -- 143.4/153.3 kB 2.9 MB/s eta 0:00:01\n",
      "   ---------------------------------------- 153.3/153.3 kB 1.1 MB/s eta 0:00:00\n",
      "Installing collected packages: cymem, wasabi, spacy-loggers, spacy-legacy, murmurhash, marisa-trie, cloudpathlib, catalogue, blis, typer, srsly, preshed, language-data, langcodes, confection, weasel, thinc, spacy\n",
      "Successfully installed blis-0.7.11 catalogue-2.0.10 cloudpathlib-0.16.0 confection-0.1.5 cymem-2.0.8 langcodes-3.4.0 language-data-1.2.0 marisa-trie-1.1.1 murmurhash-1.0.10 preshed-3.0.9 spacy-3.7.4 spacy-legacy-3.0.12 spacy-loggers-1.0.5 srsly-2.4.8 thinc-8.2.3 typer-0.9.4 wasabi-1.1.3 weasel-0.3.4\n"
     ]
    },
    {
     "name": "stderr",
     "output_type": "stream",
     "text": [
      "  WARNING: The script weasel.exe is installed in 'C:\\Users\\Sarangi Perera\\AppData\\Roaming\\Python\\Python311\\Scripts' which is not on PATH.\n",
      "  Consider adding this directory to PATH or, if you prefer to suppress this warning, use --no-warn-script-location.\n",
      "  WARNING: The script spacy.exe is installed in 'C:\\Users\\Sarangi Perera\\AppData\\Roaming\\Python\\Python311\\Scripts' which is not on PATH.\n",
      "  Consider adding this directory to PATH or, if you prefer to suppress this warning, use --no-warn-script-location.\n"
     ]
    },
    {
     "name": "stdout",
     "output_type": "stream",
     "text": [
      "Defaulting to user installation because normal site-packages is not writeable\n",
      "Collecting en-core-web-sm==3.7.1\n",
      "  Downloading https://github.com/explosion/spacy-models/releases/download/en_core_web_sm-3.7.1/en_core_web_sm-3.7.1-py3-none-any.whl (12.8 MB)\n",
      "     ---------------------------------------- 0.0/12.8 MB ? eta -:--:--\n",
      "     ---------------------------------------- 0.0/12.8 MB ? eta -:--:--\n",
      "     --------------------------------------- 0.0/12.8 MB 330.3 kB/s eta 0:00:39\n",
      "     --------------------------------------- 0.1/12.8 MB 469.7 kB/s eta 0:00:28\n",
      "     --------------------------------------- 0.1/12.8 MB 595.3 kB/s eta 0:00:22\n",
      "      -------------------------------------- 0.2/12.8 MB 986.4 kB/s eta 0:00:13\n",
      "      -------------------------------------- 0.3/12.8 MB 927.4 kB/s eta 0:00:14\n",
      "     - -------------------------------------- 0.5/12.8 MB 1.5 MB/s eta 0:00:09\n",
      "     - -------------------------------------- 0.6/12.8 MB 1.6 MB/s eta 0:00:08\n",
      "     -- ------------------------------------- 0.7/12.8 MB 1.8 MB/s eta 0:00:07\n",
      "     -- ------------------------------------- 0.9/12.8 MB 2.1 MB/s eta 0:00:06\n",
      "     --- ------------------------------------ 1.2/12.8 MB 2.4 MB/s eta 0:00:05\n",
      "     ---- ----------------------------------- 1.4/12.8 MB 2.6 MB/s eta 0:00:05\n",
      "     ----- ---------------------------------- 1.6/12.8 MB 2.7 MB/s eta 0:00:05\n",
      "     ----- ---------------------------------- 1.9/12.8 MB 2.9 MB/s eta 0:00:04\n",
      "     ------ --------------------------------- 2.1/12.8 MB 3.1 MB/s eta 0:00:04\n",
      "     ------- -------------------------------- 2.3/12.8 MB 3.2 MB/s eta 0:00:04\n",
      "     ------- -------------------------------- 2.5/12.8 MB 3.2 MB/s eta 0:00:04\n",
      "     -------- ------------------------------- 2.7/12.8 MB 3.3 MB/s eta 0:00:04\n",
      "     --------- ------------------------------ 2.9/12.8 MB 3.4 MB/s eta 0:00:03\n",
      "     --------- ------------------------------ 2.9/12.8 MB 3.4 MB/s eta 0:00:03\n",
      "     --------- ------------------------------ 2.9/12.8 MB 3.4 MB/s eta 0:00:03\n",
      "     ---------- ----------------------------- 3.2/12.8 MB 3.2 MB/s eta 0:00:03\n",
      "     ---------- ----------------------------- 3.4/12.8 MB 3.3 MB/s eta 0:00:03\n",
      "     ----------- ---------------------------- 3.6/12.8 MB 3.4 MB/s eta 0:00:03\n",
      "     ----------- ---------------------------- 3.8/12.8 MB 3.4 MB/s eta 0:00:03\n",
      "     ------------ --------------------------- 4.0/12.8 MB 3.5 MB/s eta 0:00:03\n",
      "     ------------- -------------------------- 4.3/12.8 MB 3.5 MB/s eta 0:00:03\n",
      "     -------------- ------------------------- 4.5/12.8 MB 3.6 MB/s eta 0:00:03\n",
      "     -------------- ------------------------- 4.8/12.8 MB 3.7 MB/s eta 0:00:03\n",
      "     --------------- ------------------------ 5.0/12.8 MB 3.7 MB/s eta 0:00:03\n",
      "     ---------------- ----------------------- 5.2/12.8 MB 3.7 MB/s eta 0:00:03\n",
      "     ----------------- ---------------------- 5.5/12.8 MB 3.8 MB/s eta 0:00:02\n",
      "     ----------------- ---------------------- 5.7/12.8 MB 3.8 MB/s eta 0:00:02\n",
      "     ------------------ --------------------- 5.8/12.8 MB 3.8 MB/s eta 0:00:02\n",
      "     ------------------ --------------------- 6.0/12.8 MB 3.8 MB/s eta 0:00:02\n",
      "     ------------------- -------------------- 6.2/12.8 MB 3.8 MB/s eta 0:00:02\n",
      "     ------------------- -------------------- 6.3/12.8 MB 3.7 MB/s eta 0:00:02\n",
      "     ------------------- -------------------- 6.4/12.8 MB 3.7 MB/s eta 0:00:02\n",
      "     -------------------- ------------------- 6.6/12.8 MB 3.7 MB/s eta 0:00:02\n",
      "     -------------------- ------------------- 6.7/12.8 MB 3.7 MB/s eta 0:00:02\n",
      "     --------------------- ------------------ 6.8/12.8 MB 3.6 MB/s eta 0:00:02\n",
      "     --------------------- ------------------ 7.0/12.8 MB 3.6 MB/s eta 0:00:02\n",
      "     ---------------------- ----------------- 7.2/12.8 MB 3.6 MB/s eta 0:00:02\n",
      "     ----------------------- ---------------- 7.4/12.8 MB 3.7 MB/s eta 0:00:02\n",
      "     ----------------------- ---------------- 7.7/12.8 MB 3.7 MB/s eta 0:00:02\n",
      "     ------------------------ --------------- 7.8/12.8 MB 3.7 MB/s eta 0:00:02\n",
      "     ------------------------ --------------- 8.0/12.8 MB 3.7 MB/s eta 0:00:02\n",
      "     ------------------------- -------------- 8.2/12.8 MB 3.8 MB/s eta 0:00:02\n",
      "     -------------------------- ------------- 8.4/12.8 MB 3.8 MB/s eta 0:00:02\n",
      "     --------------------------- ------------ 8.7/12.8 MB 3.8 MB/s eta 0:00:02\n",
      "     --------------------------- ------------ 8.8/12.8 MB 3.8 MB/s eta 0:00:02\n",
      "     ---------------------------- ----------- 9.0/12.8 MB 3.8 MB/s eta 0:00:02\n",
      "     ---------------------------- ----------- 9.0/12.8 MB 3.8 MB/s eta 0:00:02\n",
      "     ----------------------------- ---------- 9.5/12.8 MB 3.8 MB/s eta 0:00:01\n",
      "     ------------------------------ --------- 9.7/12.8 MB 3.9 MB/s eta 0:00:01\n",
      "     ------------------------------ --------- 9.9/12.8 MB 3.9 MB/s eta 0:00:01\n",
      "     ------------------------------- -------- 10.2/12.8 MB 3.9 MB/s eta 0:00:01\n",
      "     -------------------------------- ------- 10.4/12.8 MB 4.1 MB/s eta 0:00:01\n",
      "     -------------------------------- ------- 10.4/12.8 MB 4.1 MB/s eta 0:00:01\n",
      "     -------------------------------- ------- 10.5/12.8 MB 4.0 MB/s eta 0:00:01\n",
      "     --------------------------------- ------ 10.6/12.8 MB 4.1 MB/s eta 0:00:01\n",
      "     --------------------------------- ------ 10.8/12.8 MB 4.1 MB/s eta 0:00:01\n",
      "     ---------------------------------- ----- 11.1/12.8 MB 4.2 MB/s eta 0:00:01\n",
      "     ----------------------------------- ---- 11.4/12.8 MB 4.2 MB/s eta 0:00:01\n",
      "     ------------------------------------ --- 11.6/12.8 MB 4.1 MB/s eta 0:00:01\n",
      "     ------------------------------------- -- 11.9/12.8 MB 4.2 MB/s eta 0:00:01\n",
      "     ------------------------------------- -- 12.1/12.8 MB 4.2 MB/s eta 0:00:01\n",
      "     ------------------------------------- -- 12.1/12.8 MB 4.2 MB/s eta 0:00:01\n",
      "     -------------------------------------- - 12.2/12.8 MB 4.1 MB/s eta 0:00:01\n",
      "     -------------------------------------- - 12.4/12.8 MB 4.1 MB/s eta 0:00:01\n",
      "     ---------------------------------------  12.6/12.8 MB 4.1 MB/s eta 0:00:01\n",
      "     ---------------------------------------  12.8/12.8 MB 4.1 MB/s eta 0:00:01\n",
      "     ---------------------------------------  12.8/12.8 MB 4.1 MB/s eta 0:00:01\n",
      "     ---------------------------------------  12.8/12.8 MB 4.1 MB/s eta 0:00:01\n",
      "     ---------------------------------------  12.8/12.8 MB 4.1 MB/s eta 0:00:01\n",
      "     ---------------------------------------  12.8/12.8 MB 4.1 MB/s eta 0:00:01\n",
      "     ---------------------------------------  12.8/12.8 MB 4.1 MB/s eta 0:00:01\n",
      "     ---------------------------------------- 12.8/12.8 MB 3.7 MB/s eta 0:00:00\n",
      "Requirement already satisfied: spacy<3.8.0,>=3.7.2 in c:\\users\\sarangi perera\\appdata\\roaming\\python\\python311\\site-packages (from en-core-web-sm==3.7.1) (3.7.4)\n",
      "Requirement already satisfied: spacy-legacy<3.1.0,>=3.0.11 in c:\\users\\sarangi perera\\appdata\\roaming\\python\\python311\\site-packages (from spacy<3.8.0,>=3.7.2->en-core-web-sm==3.7.1) (3.0.12)\n",
      "Requirement already satisfied: spacy-loggers<2.0.0,>=1.0.0 in c:\\users\\sarangi perera\\appdata\\roaming\\python\\python311\\site-packages (from spacy<3.8.0,>=3.7.2->en-core-web-sm==3.7.1) (1.0.5)\n",
      "Requirement already satisfied: murmurhash<1.1.0,>=0.28.0 in c:\\users\\sarangi perera\\appdata\\roaming\\python\\python311\\site-packages (from spacy<3.8.0,>=3.7.2->en-core-web-sm==3.7.1) (1.0.10)\n",
      "Requirement already satisfied: cymem<2.1.0,>=2.0.2 in c:\\users\\sarangi perera\\appdata\\roaming\\python\\python311\\site-packages (from spacy<3.8.0,>=3.7.2->en-core-web-sm==3.7.1) (2.0.8)\n",
      "Requirement already satisfied: preshed<3.1.0,>=3.0.2 in c:\\users\\sarangi perera\\appdata\\roaming\\python\\python311\\site-packages (from spacy<3.8.0,>=3.7.2->en-core-web-sm==3.7.1) (3.0.9)\n",
      "Requirement already satisfied: thinc<8.3.0,>=8.2.2 in c:\\users\\sarangi perera\\appdata\\roaming\\python\\python311\\site-packages (from spacy<3.8.0,>=3.7.2->en-core-web-sm==3.7.1) (8.2.3)\n",
      "Requirement already satisfied: wasabi<1.2.0,>=0.9.1 in c:\\users\\sarangi perera\\appdata\\roaming\\python\\python311\\site-packages (from spacy<3.8.0,>=3.7.2->en-core-web-sm==3.7.1) (1.1.3)\n",
      "Requirement already satisfied: srsly<3.0.0,>=2.4.3 in c:\\users\\sarangi perera\\appdata\\roaming\\python\\python311\\site-packages (from spacy<3.8.0,>=3.7.2->en-core-web-sm==3.7.1) (2.4.8)\n",
      "Requirement already satisfied: catalogue<2.1.0,>=2.0.6 in c:\\users\\sarangi perera\\appdata\\roaming\\python\\python311\\site-packages (from spacy<3.8.0,>=3.7.2->en-core-web-sm==3.7.1) (2.0.10)\n",
      "Requirement already satisfied: weasel<0.4.0,>=0.1.0 in c:\\users\\sarangi perera\\appdata\\roaming\\python\\python311\\site-packages (from spacy<3.8.0,>=3.7.2->en-core-web-sm==3.7.1) (0.3.4)\n",
      "Requirement already satisfied: typer<0.10.0,>=0.3.0 in c:\\users\\sarangi perera\\appdata\\roaming\\python\\python311\\site-packages (from spacy<3.8.0,>=3.7.2->en-core-web-sm==3.7.1) (0.9.4)\n",
      "Requirement already satisfied: smart-open<7.0.0,>=5.2.1 in c:\\programdata\\anaconda3\\lib\\site-packages (from spacy<3.8.0,>=3.7.2->en-core-web-sm==3.7.1) (5.2.1)\n",
      "Requirement already satisfied: tqdm<5.0.0,>=4.38.0 in c:\\programdata\\anaconda3\\lib\\site-packages (from spacy<3.8.0,>=3.7.2->en-core-web-sm==3.7.1) (4.65.0)\n",
      "Requirement already satisfied: requests<3.0.0,>=2.13.0 in c:\\programdata\\anaconda3\\lib\\site-packages (from spacy<3.8.0,>=3.7.2->en-core-web-sm==3.7.1) (2.31.0)\n",
      "Requirement already satisfied: pydantic!=1.8,!=1.8.1,<3.0.0,>=1.7.4 in c:\\programdata\\anaconda3\\lib\\site-packages (from spacy<3.8.0,>=3.7.2->en-core-web-sm==3.7.1) (1.10.8)\n",
      "Requirement already satisfied: jinja2 in c:\\programdata\\anaconda3\\lib\\site-packages (from spacy<3.8.0,>=3.7.2->en-core-web-sm==3.7.1) (3.1.2)\n",
      "Requirement already satisfied: setuptools in c:\\programdata\\anaconda3\\lib\\site-packages (from spacy<3.8.0,>=3.7.2->en-core-web-sm==3.7.1) (68.0.0)\n",
      "Requirement already satisfied: packaging>=20.0 in c:\\programdata\\anaconda3\\lib\\site-packages (from spacy<3.8.0,>=3.7.2->en-core-web-sm==3.7.1) (23.1)\n",
      "Requirement already satisfied: langcodes<4.0.0,>=3.2.0 in c:\\users\\sarangi perera\\appdata\\roaming\\python\\python311\\site-packages (from spacy<3.8.0,>=3.7.2->en-core-web-sm==3.7.1) (3.4.0)\n",
      "Requirement already satisfied: numpy>=1.19.0 in c:\\programdata\\anaconda3\\lib\\site-packages (from spacy<3.8.0,>=3.7.2->en-core-web-sm==3.7.1) (1.24.3)\n",
      "Requirement already satisfied: language-data>=1.2 in c:\\users\\sarangi perera\\appdata\\roaming\\python\\python311\\site-packages (from langcodes<4.0.0,>=3.2.0->spacy<3.8.0,>=3.7.2->en-core-web-sm==3.7.1) (1.2.0)\n",
      "Requirement already satisfied: typing-extensions>=4.2.0 in c:\\programdata\\anaconda3\\lib\\site-packages (from pydantic!=1.8,!=1.8.1,<3.0.0,>=1.7.4->spacy<3.8.0,>=3.7.2->en-core-web-sm==3.7.1) (4.7.1)\n",
      "Requirement already satisfied: charset-normalizer<4,>=2 in c:\\programdata\\anaconda3\\lib\\site-packages (from requests<3.0.0,>=2.13.0->spacy<3.8.0,>=3.7.2->en-core-web-sm==3.7.1) (2.0.4)\n",
      "Requirement already satisfied: idna<4,>=2.5 in c:\\programdata\\anaconda3\\lib\\site-packages (from requests<3.0.0,>=2.13.0->spacy<3.8.0,>=3.7.2->en-core-web-sm==3.7.1) (3.4)\n",
      "Requirement already satisfied: urllib3<3,>=1.21.1 in c:\\programdata\\anaconda3\\lib\\site-packages (from requests<3.0.0,>=2.13.0->spacy<3.8.0,>=3.7.2->en-core-web-sm==3.7.1) (1.26.16)\n",
      "Requirement already satisfied: certifi>=2017.4.17 in c:\\programdata\\anaconda3\\lib\\site-packages (from requests<3.0.0,>=2.13.0->spacy<3.8.0,>=3.7.2->en-core-web-sm==3.7.1) (2023.7.22)\n",
      "Requirement already satisfied: blis<0.8.0,>=0.7.8 in c:\\users\\sarangi perera\\appdata\\roaming\\python\\python311\\site-packages (from thinc<8.3.0,>=8.2.2->spacy<3.8.0,>=3.7.2->en-core-web-sm==3.7.1) (0.7.11)\n",
      "Requirement already satisfied: confection<1.0.0,>=0.0.1 in c:\\users\\sarangi perera\\appdata\\roaming\\python\\python311\\site-packages (from thinc<8.3.0,>=8.2.2->spacy<3.8.0,>=3.7.2->en-core-web-sm==3.7.1) (0.1.5)\n",
      "Requirement already satisfied: colorama in c:\\programdata\\anaconda3\\lib\\site-packages (from tqdm<5.0.0,>=4.38.0->spacy<3.8.0,>=3.7.2->en-core-web-sm==3.7.1) (0.4.6)\n",
      "Requirement already satisfied: click<9.0.0,>=7.1.1 in c:\\programdata\\anaconda3\\lib\\site-packages (from typer<0.10.0,>=0.3.0->spacy<3.8.0,>=3.7.2->en-core-web-sm==3.7.1) (8.0.4)\n",
      "Requirement already satisfied: cloudpathlib<0.17.0,>=0.7.0 in c:\\users\\sarangi perera\\appdata\\roaming\\python\\python311\\site-packages (from weasel<0.4.0,>=0.1.0->spacy<3.8.0,>=3.7.2->en-core-web-sm==3.7.1) (0.16.0)\n",
      "Requirement already satisfied: MarkupSafe>=2.0 in c:\\programdata\\anaconda3\\lib\\site-packages (from jinja2->spacy<3.8.0,>=3.7.2->en-core-web-sm==3.7.1) (2.1.1)\n",
      "Requirement already satisfied: marisa-trie>=0.7.7 in c:\\users\\sarangi perera\\appdata\\roaming\\python\\python311\\site-packages (from language-data>=1.2->langcodes<4.0.0,>=3.2.0->spacy<3.8.0,>=3.7.2->en-core-web-sm==3.7.1) (1.1.1)\n",
      "Installing collected packages: en-core-web-sm\n",
      "Successfully installed en-core-web-sm-3.7.1\n",
      "\u001b[38;5;2m[+] Download and installation successful\u001b[0m\n",
      "You can now load the package via spacy.load('en_core_web_sm')\n"
     ]
    }
   ],
   "source": [
    "!pip install -U spacy\n",
    "!python -m spacy download en_core_web_sm"
   ]
  },
  {
   "cell_type": "code",
   "execution_count": 2,
   "id": "4abdcfa5",
   "metadata": {},
   "outputs": [],
   "source": [
    "import spacy\n",
    "from spacy.lang.en.stop_words import STOP_WORDS\n",
    "from string import punctuation"
   ]
  },
  {
   "cell_type": "code",
   "execution_count": 4,
   "id": "5f56fa16",
   "metadata": {},
   "outputs": [],
   "source": [
    "stopwords= list(STOP_WORDS)"
   ]
  },
  {
   "cell_type": "code",
   "execution_count": 6,
   "id": "e9d10e53",
   "metadata": {},
   "outputs": [],
   "source": [
    "nlp = spacy.load('en_core_web_sm')"
   ]
  },
  {
   "cell_type": "code",
   "execution_count": 7,
   "id": "431f5e1a",
   "metadata": {},
   "outputs": [],
   "source": [
    "doc = nlp(text)"
   ]
  },
  {
   "cell_type": "code",
   "execution_count": 8,
   "id": "469f4f2b",
   "metadata": {},
   "outputs": [
    {
     "name": "stdout",
     "output_type": "stream",
     "text": [
      "['\\n', 'Psychology', 'is', 'the', 'study', 'of', 'mind', 'and', 'behavior', '.', 'Its', 'subject', 'matter', 'includes', 'the', 'behavior', 'of', 'humans', 'and', 'nonhumans', ',', 'both', 'conscious', 'and', 'unconscious', 'phenomena', ',', 'and', 'mental', 'processes', 'such', 'as', 'thoughts', ',', 'feelings', ',', 'and', 'motives', '.', 'Psychology', 'is', 'an', 'academic', 'discipline', 'of', 'immense', 'scope', ',', 'crossing', 'the', 'boundaries', 'between', 'the', 'natural', 'and', 'social', 'sciences', '.', 'Biological', 'psychologists', 'seek', 'an', 'understanding', 'of', 'the', 'emergent', 'properties', 'of', 'brains', ',', 'linking', 'the', 'discipline', 'to', 'neuroscience', '.', 'As', 'social', 'scientists', ',', 'psychologists', 'aim', 'to', 'understand', 'the', 'behavior', 'of', 'individuals', 'and', 'groups', '.', '\\n', 'A', 'professional', 'practitioner', 'or', 'researcher', 'involved', 'in', 'the', 'discipline', 'is', 'called', 'a', 'psychologist', '.', 'Some', 'psychologists', 'can', 'also', 'be', 'classified', 'as', 'behavioral', 'or', 'cognitive', 'scientists', '.', 'Some', 'psychologists', 'attempt', 'to', 'understand', 'the', 'role', 'of', 'mental', 'functions', 'in', 'individual', 'and', 'social', 'behavior', '.', 'Others', 'explore', 'the', 'physiological', 'and', 'neurobiological', 'processes', 'that', 'underlie', 'cognitive', 'functions', 'and', 'behaviors', '.', '\\n', 'Psychologists', 'are', 'involved', 'in', 'research', 'on', 'perception', ',', 'cognition', ',', 'attention', ',', 'emotion', ',', 'intelligence', ',', 'subjective', 'experiences', ',', 'motivation', ',', 'brain', 'functioning', ',', 'and', 'personality', '.', 'Psychologists', \"'\", 'interests', 'extend', 'to', 'interpersonal', 'relationships', ',', 'psychological', 'resilience', ',', 'family', 'resilience', ',', 'and', 'other', 'areas', 'within', 'social', 'psychology', '.', 'They', 'also', 'consider', 'the', 'unconscious', 'mind.[4', ']', 'Research', 'psychologists', 'employ', 'empirical', 'methods', 'to', 'infer', 'causal', 'and', 'correlational', 'relationships', 'between', 'psychosocial', 'variables', '.', 'Some', ',', 'but', 'not', 'all', ',', 'clinical', 'and', 'counseling', 'psychologists', 'rely', 'on', 'symbolic', 'interpretation', '.', '\\n']\n"
     ]
    }
   ],
   "source": [
    "tokens = [token.text for token in doc]\n",
    "print(tokens)"
   ]
  },
  {
   "cell_type": "code",
   "execution_count": 9,
   "id": "72e13758",
   "metadata": {},
   "outputs": [
    {
     "data": {
      "text/plain": [
       "'!\"#$%&\\'()*+,-./:;<=>?@[\\\\]^_`{|}~\\n'"
      ]
     },
     "execution_count": 9,
     "metadata": {},
     "output_type": "execute_result"
    }
   ],
   "source": [
    "punctuation = punctuation +'\\n'\n",
    "punctuation"
   ]
  },
  {
   "cell_type": "code",
   "execution_count": 10,
   "id": "0fb06e32",
   "metadata": {},
   "outputs": [],
   "source": [
    "word_frequencies = {}\n",
    "for word in doc:\n",
    "    if word.text.lower() not in stopwords:\n",
    "        if word.text.lower() not in punctuation:\n",
    "            if word.text not in word_frequencies.keys():\n",
    "                word_frequencies[word.text] = 1\n",
    "            else:\n",
    "                word_frequencies[word.text] += 1\n",
    "            "
   ]
  },
  {
   "cell_type": "code",
   "execution_count": 12,
   "id": "485842d1",
   "metadata": {},
   "outputs": [
    {
     "name": "stdout",
     "output_type": "stream",
     "text": [
      "{'Psychology': 2, 'study': 1, 'mind': 1, 'behavior': 4, 'subject': 1, 'matter': 1, 'includes': 1, 'humans': 1, 'nonhumans': 1, 'conscious': 1, 'unconscious': 2, 'phenomena': 1, 'mental': 2, 'processes': 2, 'thoughts': 1, 'feelings': 1, 'motives': 1, 'academic': 1, 'discipline': 3, 'immense': 1, 'scope': 1, 'crossing': 1, 'boundaries': 1, 'natural': 1, 'social': 4, 'sciences': 1, 'Biological': 1, 'psychologists': 6, 'seek': 1, 'understanding': 1, 'emergent': 1, 'properties': 1, 'brains': 1, 'linking': 1, 'neuroscience': 1, 'scientists': 2, 'aim': 1, 'understand': 2, 'individuals': 1, 'groups': 1, 'professional': 1, 'practitioner': 1, 'researcher': 1, 'involved': 2, 'called': 1, 'psychologist': 1, 'classified': 1, 'behavioral': 1, 'cognitive': 2, 'attempt': 1, 'role': 1, 'functions': 2, 'individual': 1, 'explore': 1, 'physiological': 1, 'neurobiological': 1, 'underlie': 1, 'behaviors': 1, 'Psychologists': 2, 'research': 1, 'perception': 1, 'cognition': 1, 'attention': 1, 'emotion': 1, 'intelligence': 1, 'subjective': 1, 'experiences': 1, 'motivation': 1, 'brain': 1, 'functioning': 1, 'personality': 1, 'interests': 1, 'extend': 1, 'interpersonal': 1, 'relationships': 2, 'psychological': 1, 'resilience': 2, 'family': 1, 'areas': 1, 'psychology': 1, 'consider': 1, 'mind.[4': 1, 'Research': 1, 'employ': 1, 'empirical': 1, 'methods': 1, 'infer': 1, 'causal': 1, 'correlational': 1, 'psychosocial': 1, 'variables': 1, 'clinical': 1, 'counseling': 1, 'rely': 1, 'symbolic': 1, 'interpretation': 1}\n"
     ]
    }
   ],
   "source": [
    "print(word_frequencies)"
   ]
  },
  {
   "cell_type": "code",
   "execution_count": 13,
   "id": "e9a474a7",
   "metadata": {},
   "outputs": [],
   "source": [
    "max_frequency = max(word_frequencies.values())"
   ]
  },
  {
   "cell_type": "code",
   "execution_count": 14,
   "id": "6306dd45",
   "metadata": {},
   "outputs": [
    {
     "data": {
      "text/plain": [
       "6"
      ]
     },
     "execution_count": 14,
     "metadata": {},
     "output_type": "execute_result"
    }
   ],
   "source": [
    "max_frequency"
   ]
  },
  {
   "cell_type": "code",
   "execution_count": 15,
   "id": "006abd13",
   "metadata": {},
   "outputs": [],
   "source": [
    "for word in word_frequencies.keys():\n",
    "    word_frequencies[word] = word_frequencies[word]/max_frequency"
   ]
  },
  {
   "cell_type": "code",
   "execution_count": 16,
   "id": "679f3d5c",
   "metadata": {},
   "outputs": [
    {
     "name": "stdout",
     "output_type": "stream",
     "text": [
      "{'Psychology': 0.3333333333333333, 'study': 0.16666666666666666, 'mind': 0.16666666666666666, 'behavior': 0.6666666666666666, 'subject': 0.16666666666666666, 'matter': 0.16666666666666666, 'includes': 0.16666666666666666, 'humans': 0.16666666666666666, 'nonhumans': 0.16666666666666666, 'conscious': 0.16666666666666666, 'unconscious': 0.3333333333333333, 'phenomena': 0.16666666666666666, 'mental': 0.3333333333333333, 'processes': 0.3333333333333333, 'thoughts': 0.16666666666666666, 'feelings': 0.16666666666666666, 'motives': 0.16666666666666666, 'academic': 0.16666666666666666, 'discipline': 0.5, 'immense': 0.16666666666666666, 'scope': 0.16666666666666666, 'crossing': 0.16666666666666666, 'boundaries': 0.16666666666666666, 'natural': 0.16666666666666666, 'social': 0.6666666666666666, 'sciences': 0.16666666666666666, 'Biological': 0.16666666666666666, 'psychologists': 1.0, 'seek': 0.16666666666666666, 'understanding': 0.16666666666666666, 'emergent': 0.16666666666666666, 'properties': 0.16666666666666666, 'brains': 0.16666666666666666, 'linking': 0.16666666666666666, 'neuroscience': 0.16666666666666666, 'scientists': 0.3333333333333333, 'aim': 0.16666666666666666, 'understand': 0.3333333333333333, 'individuals': 0.16666666666666666, 'groups': 0.16666666666666666, 'professional': 0.16666666666666666, 'practitioner': 0.16666666666666666, 'researcher': 0.16666666666666666, 'involved': 0.3333333333333333, 'called': 0.16666666666666666, 'psychologist': 0.16666666666666666, 'classified': 0.16666666666666666, 'behavioral': 0.16666666666666666, 'cognitive': 0.3333333333333333, 'attempt': 0.16666666666666666, 'role': 0.16666666666666666, 'functions': 0.3333333333333333, 'individual': 0.16666666666666666, 'explore': 0.16666666666666666, 'physiological': 0.16666666666666666, 'neurobiological': 0.16666666666666666, 'underlie': 0.16666666666666666, 'behaviors': 0.16666666666666666, 'Psychologists': 0.3333333333333333, 'research': 0.16666666666666666, 'perception': 0.16666666666666666, 'cognition': 0.16666666666666666, 'attention': 0.16666666666666666, 'emotion': 0.16666666666666666, 'intelligence': 0.16666666666666666, 'subjective': 0.16666666666666666, 'experiences': 0.16666666666666666, 'motivation': 0.16666666666666666, 'brain': 0.16666666666666666, 'functioning': 0.16666666666666666, 'personality': 0.16666666666666666, 'interests': 0.16666666666666666, 'extend': 0.16666666666666666, 'interpersonal': 0.16666666666666666, 'relationships': 0.3333333333333333, 'psychological': 0.16666666666666666, 'resilience': 0.3333333333333333, 'family': 0.16666666666666666, 'areas': 0.16666666666666666, 'psychology': 0.16666666666666666, 'consider': 0.16666666666666666, 'mind.[4': 0.16666666666666666, 'Research': 0.16666666666666666, 'employ': 0.16666666666666666, 'empirical': 0.16666666666666666, 'methods': 0.16666666666666666, 'infer': 0.16666666666666666, 'causal': 0.16666666666666666, 'correlational': 0.16666666666666666, 'psychosocial': 0.16666666666666666, 'variables': 0.16666666666666666, 'clinical': 0.16666666666666666, 'counseling': 0.16666666666666666, 'rely': 0.16666666666666666, 'symbolic': 0.16666666666666666, 'interpretation': 0.16666666666666666}\n"
     ]
    }
   ],
   "source": [
    "print(word_frequencies)"
   ]
  },
  {
   "cell_type": "code",
   "execution_count": 17,
   "id": "e8546c7a",
   "metadata": {},
   "outputs": [
    {
     "name": "stdout",
     "output_type": "stream",
     "text": [
      "[\n",
      "Psychology is the study of mind and behavior., Its subject matter includes the behavior of humans and nonhumans, both conscious and unconscious phenomena, and mental processes such as thoughts, feelings, and motives., Psychology is an academic discipline of immense scope, crossing the boundaries between the natural and social sciences., Biological psychologists seek an understanding of the emergent properties of brains, linking the discipline to neuroscience., As social scientists, psychologists aim to understand the behavior of individuals and groups.\n",
      ", A professional practitioner or researcher involved in the discipline is called a psychologist., Some psychologists can also be classified as behavioral or cognitive scientists., Some psychologists attempt to understand the role of mental functions in individual and social behavior., Others explore the physiological and neurobiological processes that underlie cognitive functions and behaviors.\n",
      ", Psychologists are involved in research on perception, cognition, attention, emotion, intelligence, subjective experiences, motivation, brain functioning, and personality., Psychologists' interests extend to interpersonal relationships, psychological resilience, family resilience, and other areas within social psychology., They also consider the unconscious mind.[4] Research psychologists employ empirical methods to infer causal and correlational relationships between psychosocial variables., Some, but not all, clinical and counseling psychologists rely on symbolic interpretation.\n",
      "]\n"
     ]
    }
   ],
   "source": [
    "sentence_tokens = [sent for sent in doc.sents]\n",
    "print(sentence_tokens)"
   ]
  },
  {
   "cell_type": "code",
   "execution_count": 19,
   "id": "f6ed7996",
   "metadata": {},
   "outputs": [],
   "source": [
    "sentence_scores ={}\n",
    "for sent in sentence_tokens:\n",
    "    for word in sent:\n",
    "        if word.text.lower() in word_frequencies.keys():\n",
    "            if sent not in sentence_scores.keys():\n",
    "                sentence_scores[sent] = word_frequencies[word.text.lower()]\n",
    "            else:\n",
    "                sentence_scores[sent] += word_frequencies[word.text.lower()]\n",
    "        "
   ]
  },
  {
   "cell_type": "code",
   "execution_count": 20,
   "id": "299a2615",
   "metadata": {},
   "outputs": [
    {
     "data": {
      "text/plain": [
       "{\n",
       " Psychology is the study of mind and behavior.: 1.1666666666666665,\n",
       " Its subject matter includes the behavior of humans and nonhumans, both conscious and unconscious phenomena, and mental processes such as thoughts, feelings, and motives.: 3.333333333333333,\n",
       " Psychology is an academic discipline of immense scope, crossing the boundaries between the natural and social sciences.: 2.5,\n",
       " Biological psychologists seek an understanding of the emergent properties of brains, linking the discipline to neuroscience.: 2.666666666666667,\n",
       " As social scientists, psychologists aim to understand the behavior of individuals and groups.: 3.4999999999999996,\n",
       " A professional practitioner or researcher involved in the discipline is called a psychologist.: 1.6666666666666667,\n",
       " Some psychologists can also be classified as behavioral or cognitive scientists.: 2.0,\n",
       " Some psychologists attempt to understand the role of mental functions in individual and social behavior.: 3.833333333333333,\n",
       " Others explore the physiological and neurobiological processes that underlie cognitive functions and behaviors.: 1.8333333333333333,\n",
       " Psychologists are involved in research on perception, cognition, attention, emotion, intelligence, subjective experiences, motivation, brain functioning, and personality.: 3.333333333333332,\n",
       " Psychologists' interests extend to interpersonal relationships, psychological resilience, family resilience, and other areas within social psychology.: 3.833333333333333,\n",
       " They also consider the unconscious mind.[4] Research psychologists employ empirical methods to infer causal and correlational relationships between psychosocial variables.: 3.499999999999999,\n",
       " Some, but not all, clinical and counseling psychologists rely on symbolic interpretation.: 1.8333333333333335}"
      ]
     },
     "execution_count": 20,
     "metadata": {},
     "output_type": "execute_result"
    }
   ],
   "source": [
    "sentence_scores"
   ]
  },
  {
   "cell_type": "code",
   "execution_count": 21,
   "id": "c790ae4e",
   "metadata": {},
   "outputs": [],
   "source": [
    "from heapq import nlargest"
   ]
  },
  {
   "cell_type": "code",
   "execution_count": 22,
   "id": "40d0df5f",
   "metadata": {},
   "outputs": [
    {
     "data": {
      "text/plain": [
       "3"
      ]
     },
     "execution_count": 22,
     "metadata": {},
     "output_type": "execute_result"
    }
   ],
   "source": [
    "select_length = int(len(sentence_tokens)*0.3)\n",
    "select_length"
   ]
  },
  {
   "cell_type": "code",
   "execution_count": 24,
   "id": "2d6122ba",
   "metadata": {},
   "outputs": [],
   "source": [
    "summary = nlargest(select_length, sentence_scores, key = sentence_scores.get)"
   ]
  },
  {
   "cell_type": "code",
   "execution_count": 25,
   "id": "29407f49",
   "metadata": {},
   "outputs": [
    {
     "data": {
      "text/plain": [
       "[Some psychologists attempt to understand the role of mental functions in individual and social behavior.,\n",
       " Psychologists' interests extend to interpersonal relationships, psychological resilience, family resilience, and other areas within social psychology.,\n",
       " As social scientists, psychologists aim to understand the behavior of individuals and groups.]"
      ]
     },
     "execution_count": 25,
     "metadata": {},
     "output_type": "execute_result"
    }
   ],
   "source": [
    "summary"
   ]
  },
  {
   "cell_type": "code",
   "execution_count": 26,
   "id": "8ec1ffd5",
   "metadata": {},
   "outputs": [],
   "source": [
    "final_summary = [word.text for word in summary]"
   ]
  },
  {
   "cell_type": "code",
   "execution_count": 27,
   "id": "fc42f0fc",
   "metadata": {},
   "outputs": [],
   "source": [
    "summary = ' '.join(final_summary)"
   ]
  },
  {
   "cell_type": "code",
   "execution_count": 29,
   "id": "613fdda1",
   "metadata": {},
   "outputs": [
    {
     "name": "stdout",
     "output_type": "stream",
     "text": [
      "Some psychologists attempt to understand the role of mental functions in individual and social behavior. Psychologists' interests extend to interpersonal relationships, psychological resilience, family resilience, and other areas within social psychology. As social scientists, psychologists aim to understand the behavior of individuals and groups.\n",
      "\n"
     ]
    }
   ],
   "source": [
    "print(summary)"
   ]
  },
  {
   "cell_type": "code",
   "execution_count": null,
   "id": "7c975cd4",
   "metadata": {},
   "outputs": [],
   "source": []
  }
 ],
 "metadata": {
  "kernelspec": {
   "display_name": "Python 3 (ipykernel)",
   "language": "python",
   "name": "python3"
  },
  "language_info": {
   "codemirror_mode": {
    "name": "ipython",
    "version": 3
   },
   "file_extension": ".py",
   "mimetype": "text/x-python",
   "name": "python",
   "nbconvert_exporter": "python",
   "pygments_lexer": "ipython3",
   "version": "3.11.5"
  }
 },
 "nbformat": 4,
 "nbformat_minor": 5
}
